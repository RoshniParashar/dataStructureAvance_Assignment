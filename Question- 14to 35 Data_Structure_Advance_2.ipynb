{
 "cells": [
  {
   "cell_type": "markdown",
   "id": "a75c9953-3b16-492a-b904-3be0e00a6345",
   "metadata": {
    "tags": []
   },
   "source": [
    " ### 15. Implement a code to find and remove duplicates from a list while preserving the original order of elements."
   ]
  },
  {
   "cell_type": "code",
   "execution_count": 1,
   "id": "888083ac-7b25-4d88-a13b-2711ee514ef2",
   "metadata": {},
   "outputs": [
    {
     "name": "stdout",
     "output_type": "stream",
     "text": [
      "['apple', 'banana', 'cherry', 'date']\n"
     ]
    }
   ],
   "source": [
    "fruits = [\"apple\", \"banana\", \"cherry\", \"apple\", \"banana\", \"date\"]\n",
    "unique_fruits = list(dict.fromkeys(fruits))\n",
    "print(unique_fruits)"
   ]
  },
  {
   "cell_type": "markdown",
   "id": "006b4e1b-b37f-4681-9821-ea32076075aa",
   "metadata": {
    "tags": []
   },
   "source": [
    " ### 16. Create a code to check if a given list is sorted (either in ascending or descending order) or not"
   ]
  },
  {
   "cell_type": "code",
   "execution_count": 5,
   "id": "44472caa-05e3-4580-9e8a-23a33724587c",
   "metadata": {},
   "outputs": [
    {
     "name": "stdout",
     "output_type": "stream",
     "text": [
      "True\n"
     ]
    }
   ],
   "source": [
    "items = [444,333,222,111]\n",
    "check= True\n",
    "if items == sorted(items) or items == sorted(items, reverse=True):\n",
    "    print(check)\n",
    "else:\n",
    "    check = False\n",
    "    print(check)"
   ]
  },
  {
   "cell_type": "markdown",
   "id": "26356d9d-78bd-4dac-a655-b5c06a487e31",
   "metadata": {},
   "source": [
    " ### 17. Write a code to merge two sorted lists into a single sorted list"
   ]
  },
  {
   "cell_type": "code",
   "execution_count": 9,
   "id": "aeec932d-3809-41ab-8e38-7ff9d235415c",
   "metadata": {},
   "outputs": [
    {
     "name": "stdout",
     "output_type": "stream",
     "text": [
      "['cookies', 'dry fruits', 'egg', 'green tea', 'kelloges', 'oats', 'oil', 'pasta', 'tshirt']\n"
     ]
    }
   ],
   "source": [
    "my_list = [\"cookies\", \"kelloges\", \"oil\", \"pasta\", \"tshirt\"]\n",
    "brother_list = [\"dry fruits\", \"egg\", \"green tea\", \"kelloges\", \"oats\"]\n",
    "merged_list = my_list + brother_list\n",
    "unique_list = list(set(merged_list))\n",
    "print(sorted(unique_list))\n"
   ]
  },
  {
   "cell_type": "markdown",
   "id": "7ac83e31-6c0b-41be-91ee-2ea0db4565d8",
   "metadata": {},
   "source": [
    " ### 18. Implement a code to find the intersection of two given lists"
   ]
  },
  {
   "cell_type": "code",
   "execution_count": 10,
   "id": "bbd8709f-7bd9-42c1-8138-e586744fcc68",
   "metadata": {},
   "outputs": [
    {
     "name": "stdout",
     "output_type": "stream",
     "text": [
      "[45, 5, 111]\n"
     ]
    }
   ],
   "source": [
    "list1= [1,5,0,45,33,13,12,111]\n",
    "list2= [213,45,43,111,2,5]\n",
    "intersection = list(set(list1) & set(list2))\n",
    "print(intersection)"
   ]
  },
  {
   "cell_type": "markdown",
   "id": "a753643d-fe2d-4e62-88da-3973b3b15e64",
   "metadata": {},
   "source": [
    "### 19. Create a code to find the union of two lists without duplicates"
   ]
  },
  {
   "cell_type": "code",
   "execution_count": 11,
   "id": "30ac56c8-c85a-4207-b9e7-191a11008190",
   "metadata": {},
   "outputs": [
    {
     "name": "stdout",
     "output_type": "stream",
     "text": [
      "[0, 1, 33, 2, 5, 43, 12, 45, 13, 111, 213]\n"
     ]
    }
   ],
   "source": [
    "list1= [1,5,0,45,33,13,12,111]\n",
    "list2= [213,45,43,111,2,5]\n",
    "union = list(set(list1) | set(list2))\n",
    "print(union)"
   ]
  },
  {
   "cell_type": "markdown",
   "id": "4ec984bc-eae6-41f5-abf7-7b3df236f09f",
   "metadata": {},
   "source": [
    "### 20. Write a code to shuffle a given list randomly without using any built-in shuffle function"
   ]
  },
  {
   "cell_type": "code",
   "execution_count": 12,
   "id": "a3896eb3-3ac8-4c73-97fb-bad3a724ca43",
   "metadata": {},
   "outputs": [
    {
     "name": "stdout",
     "output_type": "stream",
     "text": [
      "Original list: [1, 2, 3, 4, 5]\n",
      "Shuffled list: [2, 3, 1, 5, 4]\n"
     ]
    }
   ],
   "source": [
    "import random\n",
    "my_list = [1, 2, 3, 4, 5]\n",
    "shuffled_list = sorted(my_list, key=lambda x: random.random())\n",
    "print(\"Original list:\", my_list)\n",
    "print(\"Shuffled list:\", shuffled_list)"
   ]
  },
  {
   "cell_type": "markdown",
   "id": "acac21ca-f6bf-4662-999c-79af31bbd95f",
   "metadata": {},
   "source": [
    "### 21.Write a code that takes two tuples as input and returns a new tuple containing elements that are common to both input tuples "
   ]
  },
  {
   "cell_type": "code",
   "execution_count": 4,
   "id": "51d3fdfd-ebab-44a7-be38-f6ad836522b4",
   "metadata": {},
   "outputs": [
    {
     "name": "stdin",
     "output_type": "stream",
     "text": [
      " 1,2,33,45,3,32,11\n",
      " 43,32,54,111,45,33\n"
     ]
    },
    {
     "name": "stdout",
     "output_type": "stream",
     "text": [
      "(32, 1, 2, 3, 33, 11, 43, 45, 111, 54)\n"
     ]
    }
   ],
   "source": [
    "tup1= eval(input())\n",
    "tup2= eval(input())\n",
    "tup3= set(tup1+ tup2)\n",
    "print(tuple(tup3))"
   ]
  },
  {
   "cell_type": "markdown",
   "id": "fb087c77-cb5a-47f9-a49d-a4227b42223e",
   "metadata": {},
   "source": [
    "### 22. Create a code that prompts the user to enter two sets of integers separated by commas. Then, print the  intersection of these two sets"
   ]
  },
  {
   "cell_type": "code",
   "execution_count": 8,
   "id": "b507dad1-75f5-4baa-bcf6-1aa2fb93a742",
   "metadata": {},
   "outputs": [
    {
     "name": "stdin",
     "output_type": "stream",
     "text": [
      "Enter the first set of integers separated by commas:  1,2,12,13,44,45,2\n",
      "Enter the second set of integers separated by commas:  13,2,14,45,44\n"
     ]
    },
    {
     "name": "stdout",
     "output_type": "stream",
     "text": [
      "The intersection of the two sets is: {2, 13, 44, 45}\n"
     ]
    }
   ],
   "source": [
    "input1 = input(\"Enter the first set of integers separated by commas: \")\n",
    "input2 = input(\"Enter the second set of integers separated by commas: \")\n",
    "set1 = set(map(int, input1.split(',')))\n",
    "set2 = set(map(int, input2.split(',')))\n",
    "print(\"The intersection of the two sets is:\", set1 & set2)\n"
   ]
  },
  {
   "cell_type": "markdown",
   "id": "0761fbaa-ad35-4a34-8a4b-d8699daa364f",
   "metadata": {},
   "source": [
    "### 23. Write a code to concatenate two tuples. The function should take two tuples as input and return a new  tuple containing elements from both input tuples"
   ]
  },
  {
   "cell_type": "code",
   "execution_count": 14,
   "id": "606407be-e59d-4e22-8d27-8925be3a8623",
   "metadata": {},
   "outputs": [
    {
     "name": "stdin",
     "output_type": "stream",
     "text": [
      " 1,2,3\n",
      " 45,32,3,55\n"
     ]
    },
    {
     "name": "stdout",
     "output_type": "stream",
     "text": [
      "(1, 2, 3, 45, 32, 3, 55)\n"
     ]
    }
   ],
   "source": [
    "def concat():\n",
    "    tup1= eval(input())\n",
    "    tup2= eval(input())\n",
    "    return tup1+ tup2\n",
    "print(concat())"
   ]
  },
  {
   "cell_type": "markdown",
   "id": "243b3e33-0708-4fcd-9885-26d04c7e72fd",
   "metadata": {},
   "source": [
    "### 24. Develop a code that prompts the user to input two sets of strings. Then, print the elements that are  present in the first set but not in the second set"
   ]
  },
  {
   "cell_type": "code",
   "execution_count": 21,
   "id": "1b775f53-b1b4-46f8-8469-c8977b110107",
   "metadata": {},
   "outputs": [
    {
     "name": "stdin",
     "output_type": "stream",
     "text": [
      "Enter the first set of strings separated by commas:  roshni,rohit,ram,sam,arjun\n",
      "Enter the second set of strings separated by commas:  roshni,arjun,jiya,nisha\n"
     ]
    },
    {
     "name": "stdout",
     "output_type": "stream",
     "text": [
      "{'rohit', 'ram', 'sam'}\n"
     ]
    }
   ],
   "source": [
    "input1 = input(str(\"Enter the first set of strings separated by commas: \"))\n",
    "input2 = input((\"Enter the second set of strings separated by commas: \"))\n",
    "set1 = set(map(str, input1.split(',')))\n",
    "set2 = set(map(str, input2.split(',')))\n",
    "difference = set1 - (set1 & set2)\n",
    "print(difference)"
   ]
  },
  {
   "cell_type": "markdown",
   "id": "c3e09bad-e73e-4601-ac04-997da8616455",
   "metadata": {},
   "source": [
    "### 25.  Create a code that takes a tuple and two integers as input. The function should return a new tuple  containing elements from the original tuple within the specified range of indices"
   ]
  },
  {
   "cell_type": "code",
   "execution_count": 6,
   "id": "455f61c3-bcf1-4730-ad94-8aed092a53c0",
   "metadata": {},
   "outputs": [
    {
     "name": "stdout",
     "output_type": "stream",
     "text": [
      "(30, 40, 50)\n"
     ]
    }
   ],
   "source": [
    "def slice_tuple(t, start, end):\n",
    "    return t[start:end]\n",
    "original_tuple = (10, 20, 30, 40, 50, 60)\n",
    "start_index = 2\n",
    "end_index = 5\n",
    "result = slice_tuple(original_tuple, start_index, end_index)\n",
    "print(result)\n"
   ]
  },
  {
   "cell_type": "markdown",
   "id": "632f29fc-d11e-44f5-abd3-a5ca80bcf6e9",
   "metadata": {},
   "source": [
    "### 26. Write a code that prompts the user to input two sets of characters. Then, print the union of these two set"
   ]
  },
  {
   "cell_type": "code",
   "execution_count": 22,
   "id": "d6eb527e-8557-4991-a186-2fde23d70af0",
   "metadata": {},
   "outputs": [
    {
     "name": "stdin",
     "output_type": "stream",
     "text": [
      "Enter the first set of character separated by commas:  a,b,q,y\n",
      "Enter the second set of character separated by commas:  r,s,c,m,a\n"
     ]
    },
    {
     "name": "stdout",
     "output_type": "stream",
     "text": [
      "{'r', 'c', 'q', 's', 'y', 'm', 'b', 'a'}\n"
     ]
    }
   ],
   "source": [
    "input1 = input(str(\"Enter the first set of character separated by commas: \"))\n",
    "input2 = input((\"Enter the second set of character separated by commas: \"))\n",
    "set1 = set(map(str, input1.split(',')))\n",
    "set2 = set(map(str, input2.split(',')))\n",
    "union = set1 | set2\n",
    "print(union)"
   ]
  },
  {
   "cell_type": "markdown",
   "id": "bb362eea-ee26-4eaf-996f-813e25b372f5",
   "metadata": {},
   "source": [
    "### 27. Develop a code that takes a tuple of integers as input. The function should return the maximum and  minimum values from the tuple using tuple unpackin"
   ]
  },
  {
   "cell_type": "code",
   "execution_count": 25,
   "id": "97e6d706-d0d7-410a-a6c5-8b4b1e386575",
   "metadata": {},
   "outputs": [
    {
     "name": "stdin",
     "output_type": "stream",
     "text": [
      "enter a tuple seperated by commas 1,2,3,45,7\n"
     ]
    },
    {
     "name": "stdout",
     "output_type": "stream",
     "text": [
      "45\n",
      "1\n"
     ]
    }
   ],
   "source": [
    "tup1= eval(input(\"enter a tuple seperated by commas\"))\n",
    "print( max(tup1))\n",
    "print(min(tup1))"
   ]
  },
  {
   "cell_type": "markdown",
   "id": "6deda1bb-a757-4c16-b043-b18fcac201d8",
   "metadata": {},
   "source": [
    "### 28. Create a code that defines two sets of integers. Then, print the union, intersection, and difference of these  two sets"
   ]
  },
  {
   "cell_type": "code",
   "execution_count": 2,
   "id": "95262819-20ba-4d09-ae91-27a91a0ba882",
   "metadata": {},
   "outputs": [
    {
     "name": "stdin",
     "output_type": "stream",
     "text": [
      "Enter the first set of integer separated by commas:  1,2,3,4\n",
      "Enter the second set of integer separated by commas:  33,23,55,43,2\n"
     ]
    },
    {
     "name": "stdout",
     "output_type": "stream",
     "text": [
      "{1, 2, 3, 4, 33, 43, 55, 23}\n",
      "{2}\n",
      "{1, 3, 4}\n"
     ]
    }
   ],
   "source": [
    "input1 = input(str(\"Enter the first set of integer separated by commas: \"))\n",
    "input2 = input((\"Enter the second set of integer separated by commas: \"))\n",
    "set1 = set(map(int, input1.split(',')))\n",
    "set2 = set(map(int, input2.split(',')))\n",
    "union = set1 | set2\n",
    "difference = set1 -  set2\n",
    "intersection = set1 & set2\n",
    "print(union)\n",
    "print(intersection)\n",
    "print(difference)"
   ]
  },
  {
   "cell_type": "markdown",
   "id": "2d09f775-4a54-42f9-a972-3b7ab0c83c30",
   "metadata": {},
   "source": [
    "### 29. Write a code that takes a tuple and an element as input. The function should return the count of  occurrences of the given element in the tuple"
   ]
  },
  {
   "cell_type": "code",
   "execution_count": 3,
   "id": "1b4d7ea7-431b-49ed-b130-85173fab61d5",
   "metadata": {},
   "outputs": [
    {
     "name": "stdin",
     "output_type": "stream",
     "text": [
      "enter a tuple seperated by commas 11,11,23,23,23,23,44,31,77\n"
     ]
    },
    {
     "name": "stdout",
     "output_type": "stream",
     "text": [
      "{11: 2, 23: 4, 44: 1, 31: 1, 77: 1}\n"
     ]
    }
   ],
   "source": [
    "tup1= eval(input(\"enter a tuple seperated by commas\"))\n",
    "dict = {}\n",
    "for element in tup1:\n",
    "    if element in dict:\n",
    "        dict[element] +=1\n",
    "    else:\n",
    "        dict[element] =1\n",
    "print(dict)"
   ]
  },
  {
   "cell_type": "markdown",
   "id": "16ae729b-4584-4167-9cf2-16c0723326bb",
   "metadata": {},
   "source": [
    "### 30. Develop a code that prompts the user to input two sets of strings. Then, print the symmetric difference of  these two sets"
   ]
  },
  {
   "cell_type": "code",
   "execution_count": 4,
   "id": "2e1c65c3-cfeb-4a85-9a5f-419b22b313b9",
   "metadata": {},
   "outputs": [
    {
     "name": "stdin",
     "output_type": "stream",
     "text": [
      "Enter the first set of strings separated by commas:  roshni,pwskills,watercolor,testing\n",
      "Enter the second set of strings separated by commas:  data analysis, scammers, alice,roshni,pwskills\n"
     ]
    },
    {
     "name": "stdout",
     "output_type": "stream",
     "text": [
      "{'testing', 'watercolor', 'data analysis', ' alice', ' scammers'}\n"
     ]
    }
   ],
   "source": [
    "input1 = input(str(\"Enter the first set of strings separated by commas: \"))\n",
    "input2 = input((\"Enter the second set of strings separated by commas: \"))\n",
    "set1 = set(map(str, input1.split(',')))\n",
    "set2 = set(map(str, input2.split(',')))\n",
    "symmetric_difference = set1 ^ set2\n",
    "print(symmetric_difference)"
   ]
  },
  {
   "cell_type": "markdown",
   "id": "2a62e06d-fa54-491a-8c4c-891bdbc09dd3",
   "metadata": {},
   "source": [
    "### 31.Write a code that takes a list of words as input and returns a dictionary where the keys are unique words  and the values are the frequencies of those words in the input list"
   ]
  },
  {
   "cell_type": "code",
   "execution_count": 6,
   "id": "9bb4043e-7cb8-42dc-8424-bcf697013344",
   "metadata": {},
   "outputs": [
    {
     "name": "stdin",
     "output_type": "stream",
     "text": [
      "Enter a list of items separated by commas:  egg,egg,milk,chocos,meat,sugar,oil,meat,meat,cheese,cheese\n"
     ]
    },
    {
     "name": "stdout",
     "output_type": "stream",
     "text": [
      "{'egg': 2, 'milk': 1, 'chocos': 1, 'meat': 3, 'sugar': 1, 'oil': 1, 'cheese': 2}\n"
     ]
    }
   ],
   "source": [
    "li = input(\"Enter a list of items separated by commas: \")\n",
    "list_items = li.split(',')\n",
    "dict = {}\n",
    "for element in list_items:\n",
    "    if element in dict:\n",
    "        dict[element] +=1\n",
    "    else:\n",
    "        dict[element] =1\n",
    "print(dict)"
   ]
  },
  {
   "cell_type": "markdown",
   "id": "8b119f90-8ddd-4a13-8719-3da193f44f10",
   "metadata": {},
   "source": [
    "### 32. Write a code that takes two dictionaries as input and merges them into a single dictionary. If there are  common keys, the values should be added together"
   ]
  },
  {
   "cell_type": "code",
   "execution_count": 1,
   "id": "a2157e1f-6f17-49a0-bdc5-b3065efdb6d6",
   "metadata": {},
   "outputs": [
    {
     "name": "stdout",
     "output_type": "stream",
     "text": [
      "{'a': 1, 'b': 23, 'c': 7, 'd': 23, 'e': 322, 'q': 55, 'r': 3, 's': 7}\n"
     ]
    }
   ],
   "source": [
    "d1 = {\"a\" : 1, \"b\" :23 , \"c\":7 , \"d\":11 , \"e\":322}\n",
    "d2 = {\"q\":55 , \"d\":12 , \"r\":3 , \"s\":7}\n",
    "merged_dict = {**d1, **d2}  \n",
    "for key in d1.keys() & d2.keys(): \n",
    "    merged_dict[key] = d1[key] + d2[key]\n",
    "print(merged_dict)"
   ]
  },
  {
   "cell_type": "markdown",
   "id": "60ef0cd2-b7ce-4a4a-b2db-2ee54757e3e3",
   "metadata": {},
   "source": [
    "### 33. Write a code to access a value in a nested dictionary. The function should take the dictionary and a list of  keys as input, and return the corresponding value. If any of the keys do not exist in the dictionary, the  function should return None"
   ]
  },
  {
   "cell_type": "code",
   "execution_count": 3,
   "id": "4f8d335e-d776-4b3d-8634-2bca38940968",
   "metadata": {},
   "outputs": [
    {
     "name": "stdout",
     "output_type": "stream",
     "text": [
      "42\n",
      "None\n"
     ]
    }
   ],
   "source": [
    "def get_nested_value(d, keys):\n",
    "    for key in keys:\n",
    "        d = d.get(key)\n",
    "        if d is None:\n",
    "            return None\n",
    "    return d\n",
    "nested_dict = {'a': {'b': {'c': 42}}}\n",
    "keys = ['a', 'b', 'c']\n",
    "print(get_nested_value(nested_dict, keys))  # Output: 42\n",
    "\n",
    "keys_invalid = ['a', 'b', 'x']\n",
    "print(get_nested_value(nested_dict, keys_invalid))  # Output: None\n"
   ]
  },
  {
   "cell_type": "markdown",
   "id": "cfdd7258-a2bf-45f3-a1c2-6c413b4b6c54",
   "metadata": {},
   "source": [
    "### 34. Write a code that takes a dictionary as input and returns a sorted version of it based on the values. You  can choose whether to sort in ascending or descending order"
   ]
  },
  {
   "cell_type": "code",
   "execution_count": 2,
   "id": "d9df170e-50fc-4f70-8a31-bd2463dcab80",
   "metadata": {},
   "outputs": [
    {
     "name": "stdout",
     "output_type": "stream",
     "text": [
      "{'e': 322, 'b': 23, 'd': 11, 'c': 7, 'a': 1}\n"
     ]
    }
   ],
   "source": [
    "my_dict = {\"a\": 1, \"b\": 23, \"c\": 7, \"d\": 11, \"e\": 322}\n",
    "sorted_dict_desc = dict(sorted(my_dict.items(), key=lambda item: item[1], reverse=True))\n",
    "print(sorted_dict_desc)"
   ]
  },
  {
   "cell_type": "markdown",
   "id": "3eeab74b-7e57-46e7-bc74-189b46fb57bc",
   "metadata": {},
   "source": [
    "### 35.  Write a code that inverts a dictionary, swapping keys and values. Ensure that the inverted dictionary  correctly handles cases where multiple keys have the same value by storing the keys as a list in the  inverted dictionary"
   ]
  },
  {
   "cell_type": "code",
   "execution_count": 5,
   "id": "09fee4fa-6ebb-431a-b523-e27290abdb8a",
   "metadata": {},
   "outputs": [
    {
     "name": "stdout",
     "output_type": "stream",
     "text": [
      "{1: ['a', 'c'], 2: ['b', 'e'], 3: ['d']}\n"
     ]
    }
   ],
   "source": [
    "def invert_dict(d):\n",
    "    inverted_dict = {}\n",
    "    for key, value in d.items():\n",
    "        if value in inverted_dict:\n",
    "            inverted_dict[value].append(key)\n",
    "        else:\n",
    "            inverted_dict[value] = [key]\n",
    "    return inverted_dict\n",
    "original_dict = {\"a\": 1, \"b\": 2, \"c\": 1, \"d\": 3, \"e\": 2}\n",
    "inverted_dict = invert_dict(original_dict)\n",
    "print(inverted_dict)\n"
   ]
  },
  {
   "cell_type": "code",
   "execution_count": null,
   "id": "69ddc35f-c235-45e4-8008-3c5894dafb23",
   "metadata": {},
   "outputs": [],
   "source": []
  }
 ],
 "metadata": {
  "kernelspec": {
   "display_name": "Python 3 (ipykernel)",
   "language": "python",
   "name": "python3"
  },
  "language_info": {
   "codemirror_mode": {
    "name": "ipython",
    "version": 3
   },
   "file_extension": ".py",
   "mimetype": "text/x-python",
   "name": "python",
   "nbconvert_exporter": "python",
   "pygments_lexer": "ipython3",
   "version": "3.10.8"
  }
 },
 "nbformat": 4,
 "nbformat_minor": 5
}
