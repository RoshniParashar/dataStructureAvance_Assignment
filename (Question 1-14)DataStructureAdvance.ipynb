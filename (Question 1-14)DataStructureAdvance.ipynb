{
 "cells": [
  {
   "cell_type": "markdown",
   "id": "f73f6ea9-d744-41bf-85f0-674d174666be",
   "metadata": {
    "jp-MarkdownHeadingCollapsed": true,
    "tags": []
   },
   "source": [
    "### 1.) Write a code to reverse a string."
   ]
  },
  {
   "cell_type": "code",
   "execution_count": 1,
   "id": "b7fc1f16-f3c0-4fba-ad0e-9d203e2cb5e5",
   "metadata": {},
   "outputs": [
    {
     "name": "stdin",
     "output_type": "stream",
     "text": [
      "<class 'str'> Roshni\n"
     ]
    },
    {
     "name": "stdout",
     "output_type": "stream",
     "text": [
      "inhsoR\n"
     ]
    }
   ],
   "source": [
    "name = input(str)\n",
    "print(name[::-1])"
   ]
  },
  {
   "cell_type": "markdown",
   "id": "3b95681f-cecb-41d5-bc32-cee8fd6bb2f5",
   "metadata": {
    "jp-MarkdownHeadingCollapsed": true,
    "tags": []
   },
   "source": [
    " ### 2.)Write a code to count the number of vowels in a string"
   ]
  },
  {
   "cell_type": "code",
   "execution_count": 1,
   "id": "6714a8d9-9b5f-49ed-9e4e-85bffbcd5e27",
   "metadata": {},
   "outputs": [
    {
     "name": "stdin",
     "output_type": "stream",
     "text": [
      "<class 'str'> RIIIIIut\n"
     ]
    },
    {
     "name": "stdout",
     "output_type": "stream",
     "text": [
      "6\n"
     ]
    }
   ],
   "source": [
    "name = input(str)\n",
    "count=0\n",
    "for i in name:\n",
    "    if i in \"aeiouAEIOU\":\n",
    "        count+=1\n",
    "print (count)"
   ]
  },
  {
   "cell_type": "markdown",
   "id": "79b9c5c6-20e2-4ac7-92c4-9cc54ee2ca0c",
   "metadata": {
    "jp-MarkdownHeadingCollapsed": true,
    "tags": []
   },
   "source": [
    "### 3.)Write a code to check if a given string is a palindrome or not"
   ]
  },
  {
   "cell_type": "code",
   "execution_count": 4,
   "id": "53318240-96ed-44ac-ba08-e350dd26c1d8",
   "metadata": {},
   "outputs": [
    {
     "name": "stdin",
     "output_type": "stream",
     "text": [
      "<class 'str'> vav\n"
     ]
    },
    {
     "name": "stdout",
     "output_type": "stream",
     "text": [
      "It is pallindrome\n"
     ]
    }
   ],
   "source": [
    "name = input(str)\n",
    "rev = name[::-1]\n",
    "if name == rev:\n",
    "    print(\"It is pallindrome\")\n",
    "else:\n",
    "    print(\"It is not pallindrome\")"
   ]
  },
  {
   "cell_type": "markdown",
   "id": "bdbd3a45-8e2a-4bb2-86cb-944d0cebf795",
   "metadata": {
    "jp-MarkdownHeadingCollapsed": true,
    "tags": []
   },
   "source": [
    " ### 4.) Write a code to check if two given strings are anagrams of each other\n",
    " "
   ]
  },
  {
   "cell_type": "code",
   "execution_count": 8,
   "id": "d75003e9-1b97-4d68-9a6d-7676f4cee4e0",
   "metadata": {},
   "outputs": [
    {
     "name": "stdin",
     "output_type": "stream",
     "text": [
      "<class 'str'> silent\n",
      "<class 'str'> listen\n"
     ]
    },
    {
     "name": "stdout",
     "output_type": "stream",
     "text": [
      "they are anagrams\n"
     ]
    }
   ],
   "source": [
    "name1 = input(str)\n",
    "name2 = input(str)\n",
    "if sorted(name1)==sorted(name2):\n",
    "    print(\"they are anagrams\")\n",
    "else:\n",
    "    print(\"they are not anagrams\")"
   ]
  },
  {
   "cell_type": "markdown",
   "id": "9dce9263-5fb7-4668-906a-6bec85a25b4a",
   "metadata": {
    "jp-MarkdownHeadingCollapsed": true,
    "tags": []
   },
   "source": [
    "### 5.) Write a code to find all occurrences of a given substring within another string"
   ]
  },
  {
   "cell_type": "code",
   "execution_count": 9,
   "id": "69ce5648-322c-47cd-aa97-0bc059225df3",
   "metadata": {},
   "outputs": [
    {
     "name": "stdout",
     "output_type": "stream",
     "text": [
      "3\n"
     ]
    }
   ],
   "source": [
    "str = \"i am a good girl, who submitts all the assignment on good time and get good grades\"\n",
    "sub = \"good\"\n",
    "count = str.count(sub)\n",
    "print(count)    "
   ]
  },
  {
   "cell_type": "markdown",
   "id": "24a84ec6-2d8a-4830-88bf-07dbc6060937",
   "metadata": {
    "jp-MarkdownHeadingCollapsed": true,
    "tags": []
   },
   "source": [
    "### 6.)Write a code to perform basic string compression using the counts of repeated characters."
   ]
  },
  {
   "cell_type": "code",
   "execution_count": 1,
   "id": "4a5ad6db-1bb6-4508-89e0-ec6785c78121",
   "metadata": {},
   "outputs": [
    {
     "name": "stdin",
     "output_type": "stream",
     "text": [
      "<class 'str'> Missindiassippa\n"
     ]
    },
    {
     "name": "stdout",
     "output_type": "stream",
     "text": [
      "{'M': 1, 'i': 4, 's': 4, 'n': 1, 'd': 1, 'a': 2, 'p': 2}\n",
      "M1i4s4n1d1a2p2\n"
     ]
    }
   ],
   "source": [
    "s = input(str)\n",
    "frequency_dict = {}\n",
    "for char in s:\n",
    "    if char in frequency_dict:\n",
    "        frequency_dict[char] +=1\n",
    "    else:\n",
    "        frequency_dict[char] =1\n",
    "print(frequency_dict)\n",
    "result = []\n",
    "for char,count in frequency_dict.items():\n",
    "    result.append(char+ str(count))\n",
    "print(\"\".join(result))"
   ]
  },
  {
   "cell_type": "markdown",
   "id": "7530ed75-b484-44b9-a3cd-d70524e0ba96",
   "metadata": {
    "jp-MarkdownHeadingCollapsed": true,
    "tags": []
   },
   "source": [
    "### 7.)  Write a code to determine if a string has all unique characters"
   ]
  },
  {
   "cell_type": "code",
   "execution_count": 2,
   "id": "284db4c6-f5e1-4f76-bf16-9d274382aeb1",
   "metadata": {},
   "outputs": [
    {
     "name": "stdin",
     "output_type": "stream",
     "text": [
      "<class 'str'> Roshni\n"
     ]
    },
    {
     "name": "stdout",
     "output_type": "stream",
     "text": [
      "All characters are unique\n"
     ]
    }
   ],
   "source": [
    "s = input(str)\n",
    "frequency_dict={}\n",
    "for char in s:\n",
    "    if char in frequency_dict:\n",
    "        frequency_dict[char] +=1\n",
    "    else:\n",
    "        frequency_dict[char] =1\n",
    "result = []\n",
    "for char,count in frequency_dict.items():\n",
    "    if count!=1:\n",
    "        continue\n",
    "    result.append(char)\n",
    "if len(result) == len(s):\n",
    "    print(\"All characters are unique\")\n",
    "else:\n",
    "    print(\"Not all characters are unique\")"
   ]
  },
  {
   "cell_type": "markdown",
   "id": "8d1e90a1-32bd-49a2-97e5-80a048687855",
   "metadata": {
    "jp-MarkdownHeadingCollapsed": true,
    "tags": []
   },
   "source": [
    "### 8.)Write a code to convert a given string to uppercase or lowercase"
   ]
  },
  {
   "cell_type": "code",
   "execution_count": 3,
   "id": "55936c76-f6b0-405c-9724-9b2df5660267",
   "metadata": {},
   "outputs": [
    {
     "name": "stdin",
     "output_type": "stream",
     "text": [
      "<class 'str'> MAsaba\n"
     ]
    },
    {
     "name": "stdout",
     "output_type": "stream",
     "text": [
      "MASABA\n",
      "masaba\n"
     ]
    }
   ],
   "source": [
    "s = input(str)\n",
    "print(s.upper())\n",
    "print(s.lower())"
   ]
  },
  {
   "cell_type": "markdown",
   "id": "9f95b084-6055-4e5b-9087-dacc5929ab89",
   "metadata": {
    "tags": []
   },
   "source": [
    "### 9)Write a code to count the number of words in a string"
   ]
  },
  {
   "cell_type": "code",
   "execution_count": 5,
   "id": "c96bf151-b552-4683-bcf4-5bbe1a11ab51",
   "metadata": {},
   "outputs": [
    {
     "name": "stdin",
     "output_type": "stream",
     "text": [
      "<class 'str'> Jodha\n"
     ]
    },
    {
     "name": "stdout",
     "output_type": "stream",
     "text": [
      "5\n"
     ]
    }
   ],
   "source": [
    "s = input(str)\n",
    "print(len(s))"
   ]
  },
  {
   "cell_type": "markdown",
   "id": "dc15e21d-1d77-4cb1-9571-3fbf167bc2a7",
   "metadata": {
    "tags": []
   },
   "source": [
    "### 10.) Write a code to concatenate two strings without using the + operator"
   ]
  },
  {
   "cell_type": "code",
   "execution_count": 15,
   "id": "20d0d7d0-7fe0-4e04-a93c-580e2e75ae86",
   "metadata": {},
   "outputs": [
    {
     "name": "stdin",
     "output_type": "stream",
     "text": [
      "<class 'str'> Roshni\n",
      "<class 'str'> Parashar\n"
     ]
    },
    {
     "name": "stdout",
     "output_type": "stream",
     "text": [
      "RoshniParashar\n"
     ]
    }
   ],
   "source": [
    "s1 = input(str)\n",
    "s2 = input(str)\n",
    "result = \"\".join([s1, s2])\n",
    "print(result)"
   ]
  },
  {
   "cell_type": "markdown",
   "id": "92d03053-cd04-493c-b791-6ab7300924b7",
   "metadata": {
    "jp-MarkdownHeadingCollapsed": true,
    "tags": []
   },
   "source": [
    "### 11.) Write a code to remove all occurrences of a specific element from a list"
   ]
  },
  {
   "cell_type": "code",
   "execution_count": 16,
   "id": "25f6057b-ab71-49a6-909e-13b47d18ae82",
   "metadata": {},
   "outputs": [
    {
     "name": "stdout",
     "output_type": "stream",
     "text": [
      "['milk', 'honey', 'oil', 'vinegar', 'cabbage', 'mint sauce', 'papaya']\n"
     ]
    }
   ],
   "source": [
    "l1 = [\"egg\",\"milk\",\"honey\",\"egg\",\"oil\",\"vinegar\",\"cabbage\",\"mint sauce\", \"papaya\"] \n",
    "while(\"egg\" in l1):\n",
    "    l1.remove(\"egg\")\n",
    "print(l1)"
   ]
  },
  {
   "cell_type": "markdown",
   "id": "f2f8880e-8d87-4093-b487-a99831c43d84",
   "metadata": {
    "jp-MarkdownHeadingCollapsed": true,
    "tags": []
   },
   "source": [
    " ### 12) Implement a code to find the second largest number in a given list of integers"
   ]
  },
  {
   "cell_type": "code",
   "execution_count": 17,
   "id": "330c8d40-0530-401d-9ea8-4bbb00349bff",
   "metadata": {},
   "outputs": [
    {
     "name": "stdout",
     "output_type": "stream",
     "text": [
      "77\n"
     ]
    }
   ],
   "source": [
    "l1 = [7, 0, 45, 55, 535732, 77, 5]\n",
    "s1 = set(l1)\n",
    "result = sorted(s1)\n",
    "print(result[-2])"
   ]
  },
  {
   "cell_type": "markdown",
   "id": "650c7765-0fcb-446d-8e6f-6e31aa34ba87",
   "metadata": {
    "tags": []
   },
   "source": [
    "### 13. Create a code to count the occurrences of each element in a list and return a dictionary with elements as keys and their counts as values"
   ]
  },
  {
   "cell_type": "code",
   "execution_count": 18,
   "id": "73fc2e59-94d3-42b4-8778-e601de049da7",
   "metadata": {},
   "outputs": [
    {
     "name": "stdout",
     "output_type": "stream",
     "text": [
      "{'egg': 2, 'banana': 1, 'milk': 1, 'panner': 3, 'oil': 1}\n"
     ]
    }
   ],
   "source": [
    "li= [\"egg\", \"banana\", \"milk\",\"panner\",\"panner\",\"panner\",\"egg\", \"oil\"]\n",
    "dict = {}\n",
    "for element in li:\n",
    "    if element in dict:\n",
    "       dict[element] += 1\n",
    "    else:\n",
    "        dict[element]=1\n",
    "print(dict)        \n"
   ]
  },
  {
   "cell_type": "markdown",
   "id": "2eff6b59-0cc3-47ac-9c82-15bb9c9e5ac8",
   "metadata": {
    "tags": []
   },
   "source": [
    "### 14. Write a code to reverse a list in-place without using any built-in reverse functions"
   ]
  },
  {
   "cell_type": "code",
   "execution_count": 19,
   "id": "3578bce0-90d5-473a-a404-c297158bc5ac",
   "metadata": {},
   "outputs": [
    {
     "name": "stdout",
     "output_type": "stream",
     "text": [
      "['oil', 'egg', 'panner', 'panner', 'panner', 'milk', 'banana', 'egg']\n"
     ]
    }
   ],
   "source": [
    "li= [\"egg\", \"banana\", \"milk\",\"panner\",\"panner\",\"panner\",\"egg\", \"oil\"]\n",
    "rev_li = li[::-1]\n",
    "print(rev_li)  "
   ]
  }
 ],
 "metadata": {
  "kernelspec": {
   "display_name": "Python 3 (ipykernel)",
   "language": "python",
   "name": "python3"
  },
  "language_info": {
   "codemirror_mode": {
    "name": "ipython",
    "version": 3
   },
   "file_extension": ".py",
   "mimetype": "text/x-python",
   "name": "python",
   "nbconvert_exporter": "python",
   "pygments_lexer": "ipython3",
   "version": "3.10.8"
  }
 },
 "nbformat": 4,
 "nbformat_minor": 5
}
